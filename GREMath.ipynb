{
 "metadata": {
  "name": "GRE Math"
 },
 "nbformat": 3,
 "nbformat_minor": 0,
 "worksheets": [
  {
   "cells": [
    {
     "cell_type": "heading",
     "level": 1,
     "metadata": {},
     "source": "Divisibility Rules"
    },
    {
     "cell_type": "markdown",
     "metadata": {},
     "source": "If the sum of the numbers making up your number are divisible by 3, then the number itself is divisible by 3. The same is true for 9."
    },
    {
     "cell_type": "heading",
     "level": 1,
     "metadata": {},
     "source": "Working with Fractions"
    },
    {
     "cell_type": "heading",
     "level": 2,
     "metadata": {},
     "source": "Multiplying fractions"
    },
    {
     "cell_type": "markdown",
     "metadata": {},
     "source": "When you multiplying fractions you can reduce over the times sign and potentially make your life easier before doing the multiplication."
    },
    {
     "cell_type": "markdown",
     "metadata": {},
     "source": "$\\frac{4}{5} * \\frac{10}{12}$"
    },
    {
     "cell_type": "markdown",
     "metadata": {},
     "source": "can be reduced across the times sign (4 and 12 can be reduced and 10 and 5)."
    },
    {
     "cell_type": "markdown",
     "metadata": {},
     "source": "$\\frac{1}{1} * \\frac{2}{3}$"
    },
    {
     "cell_type": "heading",
     "level": 2,
     "metadata": {},
     "source": "Adding and Subtracting Fractions"
    },
    {
     "cell_type": "markdown",
     "metadata": {},
     "source": "You need a common denominator. Multiple the denominators together to get the new denominator. To get the new numerators, multiple diagnolly up across the sign. So the numerator of the first original fraction times the denominator of the second original fraction will equal the new numerator of the first fraction.\n\n$\\frac{2}{3} + \\frac{3}{4} = \\frac{8}{12} + \\frac{9}{12}$ "
    },
    {
     "cell_type": "heading",
     "level": 1,
     "metadata": {},
     "source": "Decimals"
    },
    {
     "cell_type": "heading",
     "level": 2,
     "metadata": {},
     "source": "Adding decimals"
    },
    {
     "cell_type": "markdown",
     "metadata": {},
     "source": "Line up along the decimal point and add (adding zeroes where necessary).\n"
    },
    {
     "cell_type": "heading",
     "level": 2,
     "metadata": {},
     "source": "Multiplying Decimals"
    },
    {
     "cell_type": "markdown",
     "metadata": {},
     "source": "Multiply as regular integers then place the decimal as follows:\n\n\n\n1) count total number of numbers behind the decimal point in both numbers\n\n2) Place the decimal point in the solution so that, that many numbers are behind it"
    },
    {
     "cell_type": "heading",
     "level": 2,
     "metadata": {},
     "source": "Dividing Decimals"
    },
    {
     "cell_type": "markdown",
     "metadata": {},
     "source": "Convert the divisor (number you are dividing by) to integer by moving the decimal point. Then move the the decimal point in the quotient that many spaces too. Then you can divide."
    },
    {
     "cell_type": "heading",
     "level": 1,
     "metadata": {},
     "source": "Exponents"
    },
    {
     "cell_type": "markdown",
     "metadata": {},
     "source": "When a number to a a power is raised to a power, you can multiply the powers\n\n$(4^4)^2 = 4^8$"
    },
    {
     "cell_type": "markdown",
     "metadata": {},
     "source": "You can distribute expoents across a parenthesis if there is a multplication"
    },
    {
     "cell_type": "markdown",
     "metadata": {},
     "source": "$(3*2)^2=3^2*2^2$"
    },
    {
     "cell_type": "heading",
     "level": 1,
     "metadata": {},
     "source": "Square Roots"
    },
    {
     "cell_type": "markdown",
     "metadata": {},
     "source": "If $x^2 = 16$  then the answer is +or- 4, but if they ask for the square root of 16, they want only the positive"
    },
    {
     "cell_type": "markdown",
     "metadata": {},
     "source": "You can mulitply and divide square roots like any other number.  You cannot add them unless the roots are the same"
    },
    {
     "cell_type": "markdown",
     "metadata": {},
     "source": "$\\sqrt{3} * \\sqrt{7} = \\sqrt{21}$\n\n\n$\\sqrt{\\frac{16}{4}} = \\frac{\\sqrt{16}}{\\sqrt{4}} = \\frac{4}{2}$"
    },
    {
     "cell_type": "markdown",
     "metadata": {},
     "source": "You can simplify square roots and pull out numbers\n$\\sqrt{32} = \\sqrt{16*2} = 4*\\sqrt{2}$"
    },
    {
     "cell_type": "heading",
     "level": 1,
     "metadata": {},
     "source": "Numbers to know"
    },
    {
     "cell_type": "markdown",
     "metadata": {},
     "source": "$\\sqrt{2}=1.4$"
    },
    {
     "cell_type": "markdown",
     "metadata": {},
     "source": "$\\sqrt{3}=1.7$"
    },
    {
     "cell_type": "heading",
     "level": 2,
     "metadata": {},
     "source": "Prime Numbers"
    },
    {
     "cell_type": "heading",
     "level": 3,
     "metadata": {},
     "source": "Determine if a number is prime"
    },
    {
     "cell_type": "markdown",
     "metadata": {},
     "source": "1. Estimate the square root of the number.\n1. Check all the prime numbers that fall below your estimate to see if they are factors of the number. If no prime below your estimate is a factor of the number, then the number is prime."
    },
    {
     "cell_type": "heading",
     "level": 1,
     "metadata": {},
     "source": "Permutations"
    },
    {
     "cell_type": "raw",
     "metadata": {},
     "source": "An arrangement of things in a particular order. Simple multiplication solves this. If you have 5 cards that can you stack on each other, and you need to know the different ways this could happen"
    },
    {
     "cell_type": "markdown",
     "metadata": {},
     "source": "5 * 4 * 3 * 2 *1"
    },
    {
     "cell_type": "raw",
     "metadata": {},
     "source": "Because there are 5 cards that can be on top, and then 4 that can be on the bottom and so on"
    },
    {
     "cell_type": "heading",
     "level": 1,
     "metadata": {},
     "source": "Combinations"
    },
    {
     "cell_type": "raw",
     "metadata": {},
     "source": "In combinations the order does not matter. The way to solve this is to start out like you are doing a permutation, but then divide by the number of ways there is to order the number of things you are ordering."
    },
    {
     "cell_type": "raw",
     "metadata": {},
     "source": "If you go to the store and are told to get 3 vegetables, and they have 5"
    },
    {
     "cell_type": "markdown",
     "metadata": {},
     "source": "$\\frac{5 * 4 * 3}{3!}$"
    },
    {
     "cell_type": "markdown",
     "metadata": {},
     "source": "Because there are 5*4*3 ways to pick 3 out of 5 things and 3! ways to arrange 3 things."
    },
    {
     "cell_type": "heading",
     "level": 1,
     "metadata": {},
     "source": "Geometry"
    },
    {
     "cell_type": "markdown",
     "metadata": {},
     "source": "Equation for total degrees in an N-sided polygon"
    },
    {
     "cell_type": "markdown",
     "metadata": {},
     "source": "180*(n-2)"
    },
    {
     "cell_type": "markdown",
     "metadata": {},
     "source": "4 angles in any 4 sided figure must add up to 360"
    },
    {
     "cell_type": "heading",
     "level": 2,
     "metadata": {},
     "source": "Impossible Triangles"
    },
    {
     "cell_type": "markdown",
     "metadata": {},
     "source": "The length of any 1 side of a triangle must be less than the sum of the other two and greater than their difference"
    },
    {
     "cell_type": "heading",
     "level": 2,
     "metadata": {},
     "source": "Pythogorean Triples"
    },
    {
     "cell_type": "markdown",
     "metadata": {},
     "source": "3-4-5"
    },
    {
     "cell_type": "markdown",
     "metadata": {},
     "source": "6-8-10"
    },
    {
     "cell_type": "markdown",
     "metadata": {},
     "source": "5-12-13"
    },
    {
     "cell_type": "heading",
     "level": 2,
     "metadata": {},
     "source": "Special Right Triangles"
    },
    {
     "cell_type": "code",
     "collapsed": false,
     "input": "",
     "language": "python",
     "metadata": {},
     "outputs": []
    }
   ],
   "metadata": {}
  }
 ]
}