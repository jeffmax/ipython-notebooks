{
 "cells": [
  {
   "cell_type": "markdown",
   "metadata": {
    "slideshow": {
     "slide_type": "slide"
    }
   },
   "source": [
    "# ANOVA and Linear Regression\n",
    "\n",
    "This notebook is meant to provide intuition behind how ANOVA and Linear Regression are the same model. \n",
    "\n",
    "First we need to import a few libraries and setup some data. Our fake data here is meant to show how fast in hours a drug relieves symptoms. We want to see if there is a difference between a control (placebo), regular, and extra strength version of the medications.\n",
    "\n",
    "Before looking at this notebook, this StackOverflow question is a good place to get a nice idea of what ANOVA is doing http://stats.stackexchange.com/questions/5278/how-to-visualize-what-anova-does/5280#5280 as well as this blog post http://rpsychologist.com/d3-one-way-anova."
   ]
  },
  {
   "cell_type": "code",
   "execution_count": 2,
   "metadata": {
    "collapsed": false,
    "slideshow": {
     "slide_type": "slide"
    }
   },
   "outputs": [
    {
     "name": "stderr",
     "output_type": "stream",
     "text": [
      "/usr/local/lib/python3.4/site-packages/matplotlib/__init__.py:872: UserWarning: axes.color_cycle is deprecated and replaced with axes.prop_cycle; please use the latter.\n",
      "  warnings.warn(self.msg_depr % (key, alt_key))\n"
     ]
    }
   ],
   "source": [
    "from pandas import DataFrame\n",
    "import pandas as pd\n",
    "from statsmodels.stats.anova import anova_lm\n",
    "from statsmodels.formula.api import ols\n",
    "import matplotlib.pyplot as plt\n",
    "from mpl_toolkits.mplot3d import Axes3D\n",
    "import seaborn as sns\n",
    "import numpy as np\n",
    "sns.set_style(\"whitegrid\")\n",
    "%matplotlib inline\n",
    "data_stacked = {\n",
    "'hour': [ 22, 13.5, 21.5, 20.5, 19, 23, 33, 32.5, 24, 29, 27, 27, 22, 25, 24, 27.5, 25, 28],\n",
    "'treatment': ['control', \n",
    "              'control', \n",
    "              'control', \n",
    "              'control', \n",
    "              'control', \n",
    "              'control', \n",
    "              'regular', \n",
    "              'regular', \n",
    "              'regular', \n",
    "              'regular', \n",
    "              'regular', \n",
    "              'regular', \n",
    "              'extra', \n",
    "              'extra', \n",
    "              'extra', \n",
    "              'extra', \n",
    "              'extra', \n",
    "              'extra']\n",
    "}"
   ]
  },
  {
   "cell_type": "markdown",
   "metadata": {},
   "source": [
    "Next we use statsmodels to run an ANOVA on our data and view the results."
   ]
  },
  {
   "cell_type": "code",
   "execution_count": 14,
   "metadata": {
    "collapsed": false
   },
   "outputs": [
    {
     "data": {
      "text/plain": [
       "12.327660801845996"
      ]
     },
     "execution_count": 14,
     "metadata": {},
     "output_type": "execute_result"
    }
   ],
   "source": [
    "df = DataFrame(data_stacked)\n",
    "model = ols('hour ~ C(treatment)', data=df)\n",
    "fit = anova_lm(model.fit())\n",
    "fit.F.values[0]"
   ]
  },
  {
   "cell_type": "markdown",
   "metadata": {},
   "source": [
    "We can see here that our ANOVA has a relatively large F-Value indicating that one or more of the group means differ from one another. We can visualize this by take a look at the three different groups side-by-side. Visualization inspired from https://github.com/thomas-haslwanter/statsintro_python/blob/master/ipynb/8_anovaOneway.ipynb, which is also a great resource for statistics in Python."
   ]
  },
  {
   "cell_type": "code",
   "execution_count": 4,
   "metadata": {
    "collapsed": false
   },
   "outputs": [
    {
     "data": {
      "image/png": "[encoded data removed]",
      "text/plain": [
       "<matplotlib.figure.Figure at 0x1166ceba8>"
      ]
     },
     "metadata": {},
     "output_type": "display_data"
    }
   ],
   "source": [
    "fig = plt.figure()\n",
    "axes = fig.add_axes([0, 0, 1, 1])\n",
    "axes.plot([0]*6, data_stacked[\"hour\"][0:6], 'd', ms=20)\n",
    "axes.plot([1]*6, data_stacked[\"hour\"][6:12], 'd', ms=20)\n",
    "axes.plot([2]*6, data_stacked[\"hour\"][12:18], 'd', ms=20)\n",
    "axes.set_xbound([-0.5,2.5])"
   ]
  },
  {
   "cell_type": "markdown",
   "metadata": {},
   "source": [
    "Visually, it looks the groups may have different means (or at least some of them differ). The results of the ANOVA back up this intuition. The numerator of the F-statistic is the variance between groups, and the denominator is the variance within groups. Intuitively, the larger F-statistic means that the variance between groups overshadows the variance within groups which indicates that the means of one or more of the groups likely differ. See here for more https://en.wikipedia.org/wiki/F-test#Multiple-comparison_ANOVA_problems\n",
    "\n",
    "So what does this have to do with a linear regression? It turns out they are really the same thing but it requires that we re-code our variables using \"dummy-coding\" before running the regression. This means we create a new variable for each feature or group. The variable is equal to 1 when the depedendent variable (here, hours to relief) is from that group, and 0 when it is not. You only N - 1 dummy variables to represent N groups, because when the N - 1 variables are set to 0 it indicates that the dependent variable (hour) is from the left-out \"reference\" group. We will use the get_dummies function from the Pandas library below to create these new variables for us. After that, we will run a regression and confirm our resulting F-Value is the same as the ANOVA."
   ]
  },
  {
   "cell_type": "code",
   "execution_count": 5,
   "metadata": {
    "collapsed": false
   },
   "outputs": [
    {
     "name": "stdout",
     "output_type": "stream",
     "text": [
      "F-value: 12.327661\n"
     ]
    },
    {
     "data": {
      "text/plain": [
       "Intercept      19.916667\n",
       "trt_regular     8.833333\n",
       "trt_extra       5.333333\n",
       "dtype: float64"
      ]
     },
     "execution_count": 5,
     "metadata": {},
     "output_type": "execute_result"
    }
   ],
   "source": [
    "dummies = pd.get_dummies(df.treatment, prefix='trt').iloc[:,1:]\n",
    "full_model = ols(\"hour ~ trt_regular + trt_extra\", data = pd.concat([df, dummies], axis=1))\n",
    "print(\"F-value: %f\" % full_model.fit().fvalue)\n",
    "full_model.fit().params"
   ]
  },
  {
   "cell_type": "markdown",
   "metadata": {
    "collapsed": false
   },
   "source": [
    "The F-Value is the same. Now in the context of a regression, the F-value compares our current model to the \"reduced\" model which only contains the intercept (http://blog.minitab.com/blog/adventures-in-statistics/what-is-the-f-test-of-overall-significance-in-regression-analysis\n",
    "). We can think of this as answering the question: \"Does the increased complexity of our current model deliver significantly better results than a much simpler model?\" A larger F-value indicates that it does. But what does this have to do with the F-Value from ANOVA. \n",
    "\n",
    "Let's start by taking away the \"extra strength\" level of our factor and just looking at a graph of our \"dummy variables\" for \"control\" and \"regular strength\"."
   ]
  },
  {
   "cell_type": "code",
   "execution_count": 6,
   "metadata": {
    "collapsed": false
   },
   "outputs": [
    {
     "name": "stderr",
     "output_type": "stream",
     "text": [
      "/usr/local/lib/python3.4/site-packages/matplotlib/__init__.py:892: UserWarning: axes.color_cycle is deprecated and replaced with axes.prop_cycle; please use the latter.\n",
      "  warnings.warn(self.msg_depr % (key, alt_key))\n"
     ]
    },
    {
     "data": {
      "image/png": "[encoded data removed]",
      "text/plain": [
       "<matplotlib.figure.Figure at 0x1166ce550>"
      ]
     },
     "metadata": {},
     "output_type": "display_data"
    }
   ],
   "source": [
    "df2 = pd.concat([df, dummies], axis=1)\n",
    "fig = sns.lmplot(x='trt_regular', y='hour', data=df2.iloc[0:12,:])"
   ]
  },
  {
   "cell_type": "markdown",
   "metadata": {},
   "source": [
    "Here we only have one dummy variable (because we are looking at only two levels of our factor). The points above 0 (when the dummy variable for \"regular strength\" is 0) correspond to the control group, and the points above 1 correspond to the \"regular strength\" group. We have also have the corresponding regression line. As discussed above, our F-test is going to tell us whether this model, with effectively 1 feature, is significantly better than a straight horizontal line (intercept only). Intuitively it looks like the answer here would be yes. \n",
    "\n",
    "Below we run the regression and look at the results as well as the same two-level regression as ANOVA."
   ]
  },
  {
   "cell_type": "code",
   "execution_count": 7,
   "metadata": {
    "collapsed": false
   },
   "outputs": [
    {
     "name": "stdout",
     "output_type": "stream",
     "text": [
      "F-value: 19.574913\n"
     ]
    },
    {
     "data": {
      "text/plain": [
       "Intercept      19.916667\n",
       "trt_regular     8.833333\n",
       "dtype: float64"
      ]
     },
     "execution_count": 7,
     "metadata": {},
     "output_type": "execute_result"
    }
   ],
   "source": [
    "model = ols(\"hour ~ trt_regular\", data = df2.iloc[0:12,:])\n",
    "print(\"F-value: %f\" % model.fit().fvalue)\n",
    "model.fit().params"
   ]
  },
  {
   "cell_type": "code",
   "execution_count": 15,
   "metadata": {
    "collapsed": false
   },
   "outputs": [
    {
     "data": {
      "text/plain": [
       "19.574912891986081"
      ]
     },
     "execution_count": 15,
     "metadata": {},
     "output_type": "execute_result"
    }
   ],
   "source": [
    "model = ols('hour~ C(treatment)', data=df2.iloc[0:12,:])\n",
    "fit = anova_lm(model.fit())\n",
    "fit.F.values[0]"
   ]
  },
  {
   "cell_type": "markdown",
   "metadata": {},
   "source": [
    "Again, the F-Values are the same. We can also take a look in the regression coefficients to see what they are telling us about the dataset. The intercept is the mean of the control group."
   ]
  },
  {
   "cell_type": "code",
   "execution_count": 9,
   "metadata": {
    "collapsed": false
   },
   "outputs": [
    {
     "ename": "NameError",
     "evalue": "name 'data' is not defined",
     "output_type": "error",
     "traceback": [
      "\u001b[0;31m---------------------------------------------------------------------------\u001b[0m",
      "\u001b[0;31mNameError\u001b[0m                                 Traceback (most recent call last)",
      "\u001b[0;32m<ipython-input-9-f0c17b48758c>\u001b[0m in \u001b[0;36m<module>\u001b[0;34m()\u001b[0m\n\u001b[0;32m----> 1\u001b[0;31m \u001b[0mnp\u001b[0m\u001b[0;34m.\u001b[0m\u001b[0mmean\u001b[0m\u001b[0;34m(\u001b[0m\u001b[0mdata\u001b[0m\u001b[0;34m[\u001b[0m\u001b[0;34m'Control'\u001b[0m\u001b[0;34m]\u001b[0m\u001b[0;34m)\u001b[0m \u001b[0;31m# This is the intercept\u001b[0m\u001b[0;34m\u001b[0m\u001b[0m\n\u001b[0m",
      "\u001b[0;31mNameError\u001b[0m: name 'data' is not defined"
     ]
    }
   ],
   "source": [
    "np.mean(data['Control']) # This is the intercept"
   ]
  },
  {
   "cell_type": "markdown",
   "metadata": {},
   "source": [
    "and the coefficient for the dummy variable plus the intercept is the mean of the \"regular\" treatment group."
   ]
  },
  {
   "cell_type": "code",
   "execution_count": null,
   "metadata": {
    "collapsed": false
   },
   "outputs": [],
   "source": [
    "np.mean(data['regular']) # This is intercept + Coefficient"
   ]
  },
  {
   "cell_type": "markdown",
   "metadata": {},
   "source": [
    "You can read more about this here: http://www.theanalysisfactor.com/why-anova-and-linear-regression-are-the-same-analysis/\n",
    "\n",
    "So let's look back at the regression with both dummy-coded variables from above and extract formula for the corresponding regression equation (a plane in this case). "
   ]
  },
  {
   "cell_type": "code",
   "execution_count": null,
   "metadata": {
    "collapsed": false
   },
   "outputs": [],
   "source": [
    "full_model.fit().params"
   ]
  },
  {
   "cell_type": "markdown",
   "metadata": {},
   "source": [
    "If we graph the dummy-coded groups (now in 3 dimensions) and show the plane, we can see that the F-test in this regression compares the two planes in the image, the one with the two dummy-encoded variables, and one contains only the intercept."
   ]
  },
  {
   "cell_type": "code",
   "execution_count": null,
   "metadata": {
    "collapsed": false,
    "scrolled": false
   },
   "outputs": [],
   "source": [
    "way = df2.iloc[0:18]\n",
    "fig = plt.figure(figsize=(10, 10))\n",
    "ax = fig.gca(projection='3d')\n",
    "ax.scatter(xs=way['trt_regular'], ys=way['trt_extra'], zs=way['hour'])\n",
    "ax.set_ylabel('Extra')\n",
    "ax.set_zlabel('Hours')\n",
    "ax.set_xlabel('Regular')\n",
    "ax.set_ybound(0, 1.1)\n",
    "ax.set_xbound(0, 1.1)\n",
    "ax.view_init(25, 20)\n",
    "x_surf=np.arange(-0.2, 1, 0.01)\n",
    "y_surf=np.arange(-0.2, 1, 0.01)\n",
    "x_surf, y_surf = np.meshgrid(x_surf, y_surf)\n",
    "z_surf = 19.9167 + 8.8333*x_surf + 5.3333 * y_surf # from the regression above\n",
    "ax.plot_surface(x_surf, y_surf, z_surf, rstride=4, cstride=4, alpha=0.25)\n",
    "ax.plot_surface(x_surf, y_surf, 19.9167,  rstride=4, cstride=4, alpha=0.25)"
   ]
  },
  {
   "cell_type": "markdown",
   "metadata": {},
   "source": [
    "It may not be completely obvious, but you can imagine that the plane using the two dummy-coded variables (on top) does a better job describing the 3 groups of dummy-coded variables in 3 dimensions than the plane that is described only by the intercept (below)."
   ]
  },
  {
   "cell_type": "markdown",
   "metadata": {},
   "source": [
    "Other Links\n",
    "\n",
    "http://www.unt.edu/rss/class/Jon/MiscDocs/Cohen_1968.pdf\n",
    "\n",
    "\n",
    "https://github.com/justmarkham/DAT4/blob/master/notebooks/08_linear_regression.ipynb"
   ]
  }
 ],
 "metadata": {
  "kernelspec": {
   "display_name": "Python 3",
   "language": "python",
   "name": "python3"
  },
  "language_info": {
   "codemirror_mode": {
    "name": "ipython",
    "version": 3
   },
   "file_extension": ".py",
   "mimetype": "text/x-python",
   "name": "python",
   "nbconvert_exporter": "python",
   "pygments_lexer": "ipython3",
   "version": "3.4.0"
  }
 },
 "nbformat": 4,
 "nbformat_minor": 0
}
